{
  "nbformat": 4,
  "nbformat_minor": 0,
  "metadata": {
    "colab": {
      "name": "Copy of Untitled0.ipynb",
      "provenance": [],
      "collapsed_sections": [],
      "include_colab_link": true
    },
    "kernelspec": {
      "name": "python3",
      "display_name": "Python 3"
    },
    "language_info": {
      "name": "python"
    },
    "accelerator": "GPU"
  },
  "cells": [
    {
      "cell_type": "markdown",
      "metadata": {
        "id": "view-in-github",
        "colab_type": "text"
      },
      "source": [
        "<a href=\"https://colab.research.google.com/github/NuongThach/web/blob/main/Copy_of_Untitled0.ipynb\" target=\"_parent\"><img src=\"https://colab.research.google.com/assets/colab-badge.svg\" alt=\"Open In Colab\"/></a>"
      ]
    },
    {
      "cell_type": "code",
      "execution_count": 1,
      "metadata": {
        "id": "oz9z_fyvGDNM",
        "colab": {
          "base_uri": "https://localhost:8080/"
        },
        "outputId": "52b729f7-096d-4858-e21a-e34a1d9c3c27"
      },
      "outputs": [
        {
          "output_type": "stream",
          "name": "stdout",
          "text": [
            "Mounted at /gdrive\n"
          ]
        }
      ],
      "source": [
        "from google.colab import drive\n",
        "drive.mount('/gdrive')"
      ]
    },
    {
      "cell_type": "code",
      "source": [
        "!cd /gdrive/MyDrive/\n",
        "!mkdir License_Plate_Detector"
      ],
      "metadata": {
        "id": "eVtxlgizdut5"
      },
      "execution_count": 2,
      "outputs": []
    },
    {
      "cell_type": "code",
      "source": [
        "!cd /gdrive/MyDrive/\n",
        "!mkdir License_Plate_Detector"
      ],
      "metadata": {
        "id": "WNUFXkOWMV1R",
        "colab": {
          "base_uri": "https://localhost:8080/"
        },
        "outputId": "fd56ac29-5ff4-4373-e324-b3e6ac175938"
      },
      "execution_count": 3,
      "outputs": [
        {
          "output_type": "stream",
          "name": "stdout",
          "text": [
            "mkdir: cannot create directory ‘License_Plate_Detector’: File exists\n"
          ]
        }
      ]
    },
    {
      "cell_type": "code",
      "source": [
        "cd /gdrive/MyDrive/License_Plate_Detector"
      ],
      "metadata": {
        "id": "8tu5mw1uGUbF",
        "colab": {
          "base_uri": "https://localhost:8080/"
        },
        "outputId": "4dc2c096-938d-437a-dc37-21c58eb0a8c1"
      },
      "execution_count": 4,
      "outputs": [
        {
          "output_type": "stream",
          "name": "stdout",
          "text": [
            "[Errno 2] No such file or directory: '/gdrive/MyDrive/License_Plate_Detector'\n",
            "/content\n"
          ]
        }
      ]
    },
    {
      "cell_type": "code",
      "source": [
        "!pip3 install craft-text-detector"
      ],
      "metadata": {
        "id": "BOsLjJiAGNNB"
      },
      "execution_count": null,
      "outputs": []
    },
    {
      "cell_type": "code",
      "source": [
        "!curl http://static.thanhniennews.com/Uploaded/minhhung/2015_10_15/bentley_UEUQ.jpg?width=840 > test.png"
      ],
      "metadata": {
        "id": "bRXnzpC5HHd_"
      },
      "execution_count": null,
      "outputs": []
    },
    {
      "cell_type": "code",
      "source": [
        "!curl https://media.urbanistnetwork.com/saigoneer/article-images/2020/05/04/top1b.jpg > test2.png"
      ],
      "metadata": {
        "id": "h2w4X9nuLDDK"
      },
      "execution_count": null,
      "outputs": []
    },
    {
      "cell_type": "code",
      "source": [
        "!curl https://vnn-imgs-f.vgcloud.vn/2021/09/28/14/vehicle-number-plates-to-be-auctioned.jpg > test3.png"
      ],
      "metadata": {
        "id": "MsifPkA_Lo9y"
      },
      "execution_count": null,
      "outputs": []
    },
    {
      "cell_type": "code",
      "source": [
        "!pip3 install numpy==1.21.3"
      ],
      "metadata": {
        "id": "fH7sTg_UIJNu"
      },
      "execution_count": null,
      "outputs": []
    },
    {
      "cell_type": "code",
      "source": [
        "!curl http://static.thanhniennews.com/Uploaded/minhhung/2015_10_15/bentley_UEUQ.jpg?width=840 > test.png"
      ],
      "metadata": {
        "id": "TLvmZnAweLfW"
      },
      "execution_count": null,
      "outputs": []
    },
    {
      "cell_type": "code",
      "source": [
        "!curl https://media.urbanistnetwork.com/saigoneer/article-images/2020/05/04/top1b.jpg > test2.png"
      ],
      "metadata": {
        "id": "vBrqqECBeQEM"
      },
      "execution_count": null,
      "outputs": []
    },
    {
      "cell_type": "code",
      "source": [
        "!curl https://vnn-imgs-f.vgcloud.vn/2021/09/28/14/vehicle-number-plates-to-be-auctioned.jpg > test3.png"
      ],
      "metadata": {
        "id": "7SxL8NhkeSd0"
      },
      "execution_count": null,
      "outputs": []
    },
    {
      "cell_type": "code",
      "source": [
        "!pip3 install craft-text-detector"
      ],
      "metadata": {
        "id": "GovDDIPDeWB8"
      },
      "execution_count": null,
      "outputs": []
    },
    {
      "cell_type": "code",
      "source": [
        "# import Craft class\n",
        "from craft_text_detector import Craft\n",
        "\n",
        "# set image path and export folder directory\n",
        "image = 'test3.png' # can be filepath, PIL image or numpy array\n",
        "output_dir = 'outputs/'\n",
        "\n",
        "# create a craft instance\n",
        "craft = Craft(output_dir=output_dir, crop_type=\"poly\", cuda=False)\n",
        "\n",
        "# apply craft text detection and export detected regions to output directory\n",
        "prediction_result = craft.detect_text(image)\n",
        "\n",
        "# unload models from ram/gpu\n",
        "craft.unload_craftnet_model()\n",
        "craft.unload_refinenet_model()"
      ],
      "metadata": {
        "id": "y24ElwxVGxSe"
      },
      "execution_count": null,
      "outputs": []
    },
    {
      "cell_type": "code",
      "source": [
        "print(prediction_result)"
      ],
      "metadata": {
        "id": "kDr-y3-1KjSr"
      },
      "execution_count": null,
      "outputs": []
    },
    {
      "cell_type": "code",
      "source": [
        "# Match contours to license plate or character template\n",
        "def find_contours(dimensions, img) :\n",
        "\n",
        "    # Find all contours in the image\n",
        "    cntrs, _ = cv2.findContours(img.copy(), cv2.RETR_TREE, cv2.CHAIN_APPROX_SIMPLE)\n",
        "\n",
        "    # Retrieve potential dimensions\n",
        "    lower_width = dimensions[0]\n",
        "    upper_width = dimensions[1]\n",
        "    lower_height = dimensions[2]\n",
        "    upper_height = dimensions[3]\n",
        "    \n",
        "    # Check largest 5 or  15 contours for license plate or character respectively\n",
        "    cntrs = sorted(cntrs, key=cv2.contourArea, reverse=True)[:15]\n",
        "    \n",
        "    ii = cv2.imread('contour.jpg')\n",
        "    \n",
        "    x_cntr_list = []\n",
        "    target_contours = []\n",
        "    img_res = []\n",
        "    for cntr in cntrs :\n",
        "        # detects contour in binary image and returns the coordinates of rectangle enclosing it\n",
        "        intX, intY, intWidth, intHeight = cv2.boundingRect(cntr)\n",
        "        \n",
        "        # checking the dimensions of the contour to filter out the characters by contour's size\n",
        "        if intWidth > lower_width and intWidth < upper_width and intHeight > lower_height and intHeight < upper_height :\n",
        "            x_cntr_list.append(intX) #stores the x coordinate of the character's contour, to used later for indexing the contours\n",
        "\n",
        "            char_copy = np.zeros((44,24))\n",
        "            # extracting each character using the enclosing rectangle's coordinates.\n",
        "            char = img[intY:intY+intHeight, intX:intX+intWidth]\n",
        "            char = cv2.resize(char, (20, 40))\n",
        "            \n",
        "            cv2.rectangle(ii, (intX,intY), (intWidth+intX, intY+intHeight), (50,21,200), 2)\n",
        "            plt.imshow(ii, cmap='gray')\n",
        "            plt.title('Predict Segments')\n",
        "            # Make result formatted for classification: invert colors\n",
        "            char = cv2.subtract(255, char)\n",
        "\n",
        "            # Resize the image to 24x44 with black border\n",
        "            char_copy[2:42, 2:22] = char\n",
        "            char_copy[0:2, :] = 0\n",
        "            char_copy[:, 0:2] = 0\n",
        "            char_copy[42:44, :] = 0\n",
        "            char_copy[:, 22:24] = 0\n",
        "\n",
        "            img_res.append(char_copy) # List that stores the character's binary image (unsorted)\n",
        "            \n",
        "    # Return characters on ascending order with respect to the x-coordinate (most-left character first)\n",
        "            \n",
        "    plt.show()\n",
        "    # arbitrary function that stores sorted list of character indeces\n",
        "    indices = sorted(range(len(x_cntr_list)), key=lambda k: x_cntr_list[k])\n",
        "    img_res_copy = []\n",
        "    for idx in indices:\n",
        "        img_res_copy.append(img_res[idx])# stores character images according to their index\n",
        "    img_res = np.array(img_res_copy)\n",
        "\n",
        "    return img_res"
      ],
      "metadata": {
        "id": "3zj7nCVy3gTR"
      },
      "execution_count": 17,
      "outputs": []
    },
    {
      "cell_type": "code",
      "source": [
        "# Find characters in the resulting images\n",
        "def segment_characters(image) :\n",
        "\n",
        "    # Preprocess cropped license plate image\n",
        "    img_lp = cv2.resize(image, (333, 75))\n",
        "    img_gray_lp = cv2.cvtColor(img_lp, cv2.COLOR_BGR2GRAY)\n",
        "    _, img_binary_lp = cv2.threshold(img_gray_lp, 200, 255, cv2.THRESH_BINARY+cv2.THRESH_OTSU)\n",
        "    img_binary_lp = cv2.erode(img_binary_lp, (3,3))\n",
        "    img_binary_lp = cv2.dilate(img_binary_lp, (3,3))\n",
        "\n",
        "    LP_WIDTH = img_binary_lp.shape[0]\n",
        "    LP_HEIGHT = img_binary_lp.shape[1]\n",
        "\n",
        "    # Make borders white\n",
        "    img_binary_lp[0:3,:] = 255\n",
        "    img_binary_lp[:,0:3] = 255\n",
        "    img_binary_lp[72:75,:] = 255\n",
        "    img_binary_lp[:,330:333] = 255\n",
        "\n",
        "    # Estimations of character contours sizes of cropped license plates\n",
        "    dimensions = [LP_WIDTH/6,\n",
        "                       LP_WIDTH,\n",
        "                       LP_HEIGHT/10,\n",
        "                       2*LP_HEIGHT/3]\n",
        "    plt.imshow(img_binary_lp, cmap='gray')\n",
        "    plt.title('Contour')\n",
        "    plt.show()\n",
        "    cv2.imwrite('contour.jpg',img_binary_lp)\n",
        "\n",
        "    # Get contours within cropped license plate\n",
        "    char_list = find_contours(dimensions, img_binary_lp)\n",
        "\n",
        "    return char_list"
      ],
      "metadata": {
        "id": "RrzTtCqQ3p61"
      },
      "execution_count": 23,
      "outputs": []
    },
    {
      "cell_type": "code",
      "source": [
        "import os\n",
        "import numpy as np\n",
        "import pandas as pd\n",
        "import cv2\n",
        "import imutils\n",
        "import matplotlib.pyplot as plt\n",
        "import matplotlib.gridspec as gridspec\n",
        "import math\n",
        "from sklearn.metrics import f1_score\n",
        "\n",
        "import tensorflow as tf\n",
        "import tensorflow.keras.backend as K\n",
        "from tensorflow.keras import optimizers\n",
        "\n",
        "from keras.layers import Flatten, Dense, Conv2D, MaxPooling2D, Input, Dropout\n",
        "from keras.models import Model, Sequential\n",
        "from keras.preprocessing.image import ImageDataGenerator\n",
        "import keras.optimizers \n"
      ],
      "metadata": {
        "id": "KgNzGPE59k_U"
      },
      "execution_count": 19,
      "outputs": []
    },
    {
      "cell_type": "code",
      "source": [
        "img=cv2.imread('/content/outputs/test3_crops/crop_2.png')\n",
        "char=segment_characters(img)\n"
      ],
      "metadata": {
        "id": "MWx_IMAT3tUj",
        "colab": {
          "base_uri": "https://localhost:8080/",
          "height": 261
        },
        "outputId": "1301c6a4-5a85-4d38-b6bb-fd095d9ba70e"
      },
      "execution_count": 24,
      "outputs": [
        {
          "output_type": "display_data",
          "data": {
            "text/plain": [
              "<Figure size 432x288 with 1 Axes>"
            ],
            "image/png": "[encoded data removed]"
          },
          "metadata": {
            "needs_background": "light"
          }
        },
        {
          "output_type": "display_data",
          "data": {
            "text/plain": [
              "<Figure size 432x288 with 1 Axes>"
            ],
            "image/png": "[encoded data removed]"
          },
          "metadata": {
            "needs_background": "light"
          }
        }
      ]
    },
    {
      "cell_type": "code",
      "source": [
        "for i in range(len(char)):\n",
        "    plt.subplot(1, len(char), i+1)\n",
        "    plt.imshow(char[i], cmap='gray')\n",
        "    plt.axis('off')\n",
        "plt.show()"
      ],
      "metadata": {
        "id": "wIdUQrBX5EqK",
        "colab": {
          "base_uri": "https://localhost:8080/",
          "height": 106
        },
        "outputId": "77f68f30-a873-4d9d-e462-b707766f6599"
      },
      "execution_count": 25,
      "outputs": [
        {
          "output_type": "display_data",
          "data": {
            "text/plain": [
              "<Figure size 432x288 with 7 Axes>"
            ],
            "image/png": "[encoded data removed]"
          },
          "metadata": {
            "needs_background": "light"
          }
        }
      ]
    },
    {
      "cell_type": "code",
      "source": [
        "train_datagen = ImageDataGenerator(rescale=1./255, width_shift_range=0.1, height_shift_range=0.1)\n",
        "path = '/content/outputs/'\n",
        "train_generator = train_datagen.flow_from_directory(\n",
        "        path+'/train',  # this is the target directory\n",
        "        target_size=(28,28),  # all images will be resized to 28x28\n",
        "        batch_size=1,\n",
        "        class_mode='sparse')\n",
        "\n",
        "validation_generator = train_datagen.flow_from_directory(\n",
        "        path+'/val',  # this is the target directory\n",
        "        target_size=(28,28),  # all images will be resized to 28x28 batch_size=1,\n",
        "        class_mode='sparse')"
      ],
      "metadata": {
        "id": "xVfuVFhu5MDE"
      },
      "execution_count": null,
      "outputs": []
    },
    {
      "cell_type": "code",
      "source": [
        "K.clear_session()\n",
        "model = Sequential()\n",
        "model.add(Conv2D(16, (22,22), input_shape=(28, 28, 3), activation='relu', padding='same'))\n",
        "model.add(Conv2D(32, (16,16), input_shape=(28, 28, 3), activation='relu', padding='same'))\n",
        "model.add(Conv2D(64, (8,8), input_shape=(28, 28, 3), activation='relu', padding='same'))\n",
        "model.add(Conv2D(64, (4,4), input_shape=(28, 28, 3), activation='relu', padding='same'))\n",
        "model.add(MaxPooling2D(pool_size=(4, 4)))\n",
        "model.add(Dropout(0.4))\n",
        "model.add(Flatten())\n",
        "model.add(Dense(128, activation='relu'))\n",
        "model.add(Dense(36, activation='softmax'))\n",
        "\n",
        "model.compile(loss='sparse_categorical_crossentropy', optimizer=optimizers.Adam(lr=0.0001), metrics='accuracy')"
      ],
      "metadata": {
        "id": "Sufbktuw5Tvk"
      },
      "execution_count": null,
      "outputs": []
    },
    {
      "cell_type": "code",
      "source": [
        "model.summary()"
      ],
      "metadata": {
        "id": "SMNee1sX5Xf0"
      },
      "execution_count": null,
      "outputs": []
    },
    {
      "cell_type": "code",
      "source": [
        "batch_size = 1\n",
        "result = model.fit(\n",
        "      train_generator,\n",
        "      steps_per_epoch = train_generator.samples // batch_size,\n",
        "      validation_data = validation_generator, \n",
        "      epochs = 25, verbose=1, callbacks=None)"
      ],
      "metadata": {
        "colab": {
          "base_uri": "https://localhost:8080/"
        },
        "id": "72in1NiD5avp",
        "outputId": "4d2702f3-6e85-4946-b172-ba3ac19c7d10"
      },
      "execution_count": 67,
      "outputs": [
        {
          "output_type": "stream",
          "name": "stdout",
          "text": [
            "Epoch 1/25\n",
            "198/198 [==============================] - 2s 7ms/step - loss: 2.2362 - accuracy: 0.2626 - val_loss: 2.7399 - val_accuracy: 0.3958\n",
            "Epoch 2/25\n",
            "198/198 [==============================] - 1s 5ms/step - loss: 0.9388 - accuracy: 0.6414 - val_loss: 3.5892 - val_accuracy: 0.4375\n",
            "Epoch 3/25\n",
            "198/198 [==============================] - 1s 5ms/step - loss: 0.3565 - accuracy: 0.8687 - val_loss: 4.8409 - val_accuracy: 0.4792\n",
            "Epoch 4/25\n",
            "198/198 [==============================] - 1s 5ms/step - loss: 0.1808 - accuracy: 0.9091 - val_loss: 4.8670 - val_accuracy: 0.4792\n",
            "Epoch 5/25\n",
            "198/198 [==============================] - 1s 7ms/step - loss: 0.1893 - accuracy: 0.9293 - val_loss: 5.0187 - val_accuracy: 0.5208\n",
            "Epoch 6/25\n",
            "198/198 [==============================] - 1s 6ms/step - loss: 0.0207 - accuracy: 1.0000 - val_loss: 6.5941 - val_accuracy: 0.5000\n",
            "Epoch 7/25\n",
            "198/198 [==============================] - 1s 5ms/step - loss: 0.0344 - accuracy: 0.9899 - val_loss: 6.2377 - val_accuracy: 0.5000\n",
            "Epoch 8/25\n",
            "198/198 [==============================] - 1s 5ms/step - loss: 0.1254 - accuracy: 0.9545 - val_loss: 7.2702 - val_accuracy: 0.5000\n",
            "Epoch 9/25\n",
            "198/198 [==============================] - 1s 5ms/step - loss: 0.0603 - accuracy: 0.9747 - val_loss: 6.4459 - val_accuracy: 0.5000\n",
            "Epoch 10/25\n",
            "198/198 [==============================] - 1s 5ms/step - loss: 0.0232 - accuracy: 0.9949 - val_loss: 8.4668 - val_accuracy: 0.5000\n",
            "Epoch 11/25\n",
            "198/198 [==============================] - 1s 5ms/step - loss: 0.0015 - accuracy: 1.0000 - val_loss: 8.7089 - val_accuracy: 0.5000\n",
            "Epoch 12/25\n",
            "198/198 [==============================] - 1s 5ms/step - loss: 0.0986 - accuracy: 0.9545 - val_loss: 7.0412 - val_accuracy: 0.5000\n",
            "Epoch 13/25\n",
            "198/198 [==============================] - 1s 5ms/step - loss: 0.0914 - accuracy: 0.9697 - val_loss: 5.7532 - val_accuracy: 0.5000\n",
            "Epoch 14/25\n",
            "198/198 [==============================] - 1s 5ms/step - loss: 0.0687 - accuracy: 0.9798 - val_loss: 5.3219 - val_accuracy: 0.5000\n",
            "Epoch 15/25\n",
            "198/198 [==============================] - 1s 5ms/step - loss: 0.0159 - accuracy: 0.9949 - val_loss: 7.2566 - val_accuracy: 0.5000\n",
            "Epoch 16/25\n",
            "198/198 [==============================] - 1s 5ms/step - loss: 0.0019 - accuracy: 1.0000 - val_loss: 7.9358 - val_accuracy: 0.5000\n",
            "Epoch 17/25\n",
            "198/198 [==============================] - 1s 5ms/step - loss: 0.0057 - accuracy: 1.0000 - val_loss: 8.0732 - val_accuracy: 0.4792\n",
            "Epoch 18/25\n",
            "198/198 [==============================] - 1s 5ms/step - loss: 9.3947e-04 - accuracy: 1.0000 - val_loss: 9.2061 - val_accuracy: 0.4792\n",
            "Epoch 19/25\n",
            "198/198 [==============================] - 1s 5ms/step - loss: 0.0011 - accuracy: 1.0000 - val_loss: 9.3088 - val_accuracy: 0.4583\n",
            "Epoch 20/25\n",
            "198/198 [==============================] - 1s 5ms/step - loss: 0.0221 - accuracy: 0.9949 - val_loss: 7.1883 - val_accuracy: 0.4583\n",
            "Epoch 21/25\n",
            "198/198 [==============================] - 1s 5ms/step - loss: 8.3236e-04 - accuracy: 1.0000 - val_loss: 8.0090 - val_accuracy: 0.5000\n",
            "Epoch 22/25\n",
            "198/198 [==============================] - 1s 5ms/step - loss: 0.0039 - accuracy: 1.0000 - val_loss: 9.6370 - val_accuracy: 0.5000\n",
            "Epoch 23/25\n",
            "198/198 [==============================] - 1s 5ms/step - loss: 0.0579 - accuracy: 0.9747 - val_loss: 10.2929 - val_accuracy: 0.4792\n",
            "Epoch 24/25\n",
            "198/198 [==============================] - 1s 5ms/step - loss: 0.1656 - accuracy: 0.9444 - val_loss: 6.2442 - val_accuracy: 0.5208\n",
            "Epoch 25/25\n",
            "198/198 [==============================] - 1s 5ms/step - loss: 0.0092 - accuracy: 1.0000 - val_loss: 8.7941 - val_accuracy: 0.5000\n"
          ]
        }
      ]
    },
    {
      "cell_type": "code",
      "source": [
        "fig = plt.figure(figsize=(14,5))\n",
        "grid=gridspec.GridSpec(ncols=2,nrows=1,figure=fig)\n",
        "fig.add_subplot(grid[0])\n",
        "plt.plot(result.history['accuracy'], label='training accuracy')\n",
        "plt.plot(result.history['val_accuracy'], label='val accuracy')\n",
        "plt.title('Accuracy')\n",
        "plt.xlabel('epochs')\n",
        "plt.ylabel('accuracy')\n",
        "plt.legend()\n",
        "\n",
        "fig.add_subplot(grid[1])\n",
        "plt.plot(result.history['loss'], label='training loss')\n",
        "plt.plot(result.history['val_loss'], label='val loss')\n",
        "plt.title('Loss')\n",
        "plt.xlabel('epochs')\n",
        "plt.ylabel('loss')\n",
        "plt.legend()"
      ],
      "metadata": {
        "id": "JBYrKzTV5g_a",
        "colab": {
          "base_uri": "https://localhost:8080/",
          "height": 285
        },
        "outputId": "b5b480cc-9b31-448d-937b-769bc5f230f6"
      },
      "execution_count": 68,
      "outputs": [
        {
          "output_type": "execute_result",
          "data": {
            "text/plain": [
              "<matplotlib.legend.Legend at 0x7f0ca527b950>"
            ]
          },
          "metadata": {},
          "execution_count": 68
        },
        {
          "output_type": "display_data",
          "data": {
            "text/plain": [
              "<Figure size 1008x360 with 2 Axes>"
            ],
            "image/png": "[encoded data removed]"
          },
          "metadata": {
            "needs_background": "light"
          }
        }
      ]
    },
    {
      "cell_type": "code",
      "source": [
        "# Save the weights\n",
        "model.save_weights('./checkpoints/my_checkpoint')"
      ],
      "metadata": {
        "id": "guW1zSje5mky"
      },
      "execution_count": 69,
      "outputs": []
    },
    {
      "cell_type": "code",
      "source": [
        "# Create a new model instance\n",
        "loaded_model = Sequential()\n",
        "loaded_model.add(Conv2D(16, (22,22), input_shape=(28, 28, 3), activation='relu', padding='same'))\n",
        "loaded_model.add(Conv2D(32, (16,16), input_shape=(28, 28, 3), activation='relu', padding='same'))\n",
        "loaded_model.add(Conv2D(64, (8,8), input_shape=(28, 28, 3), activation='relu', padding='same'))\n",
        "loaded_model.add(Conv2D(64, (4,4), input_shape=(28, 28, 3), activation='relu', padding='same'))\n",
        "loaded_model.add(MaxPooling2D(pool_size=(4, 4)))\n",
        "loaded_model.add(Dropout(0.4))\n",
        "loaded_model.add(Flatten())\n",
        "loaded_model.add(Dense(128, activation='relu'))\n",
        "loaded_model.add(Dense(36, activation='softmax'))\n",
        "\n",
        "# Restore the weights\n",
        "loaded_model.load_weights('checkpoints/my_checkpoint')"
      ],
      "metadata": {
        "colab": {
          "base_uri": "https://localhost:8080/"
        },
        "id": "eNRI496w5qKW",
        "outputId": "63a783da-c570-4d17-d7f7-3cd02f425efc"
      },
      "execution_count": 70,
      "outputs": [
        {
          "output_type": "execute_result",
          "data": {
            "text/plain": [
              "<tensorflow.python.training.tracking.util.CheckpointLoadStatus at 0x7f0ca51cbe10>"
            ]
          },
          "metadata": {},
          "execution_count": 70
        }
      ]
    },
    {
      "cell_type": "code",
      "source": [
        "# Predicting the output\n",
        "def fix_dimension(img): \n",
        "    new_img = np.zeros((28,28,3))\n",
        "    for i in range(3):\n",
        "        new_img[:,:,i] = img\n",
        "        return new_img\n",
        "  \n",
        "def show_results():\n",
        "    dic = {}\n",
        "    characters = '01234567G89ABCDEFHIJKLMNOPQRSTUVWXYZ'\n",
        "    for i,c in enumerate(characters):\n",
        "        dic[i] = c\n",
        "\n",
        "    output = []\n",
        "    for i,ch in enumerate(char): #iterating over the characters\n",
        "        img_ = cv2.resize(ch, (28,28), interpolation=cv2.INTER_AREA)\n",
        "        img = fix_dimension(img_)\n",
        "        img = img.reshape(1,28,28,3) #preparing image for the model\n",
        "       # y_ = loaded_model.predict_classes(img)[0] #predicting the class\n",
        "        #predict_x=model.predict(img)[0]\n",
        "        #y_=np.argmax(predict_x,axis=-1)\n",
        "        y_ = np.argmax(model.predict(img)[0],axis=0)\n",
        "        character = dic[y_]\n",
        "        output.append(character) #storing the result in a list\n",
        "        \n",
        "    plate_number = ''.join(output)\n",
        "    \n",
        "    return plate_number\n",
        "  "
      ],
      "metadata": {
        "id": "SlEfCfxv5u5d"
      },
      "execution_count": 73,
      "outputs": []
    },
    {
      "cell_type": "code",
      "source": [
        "print(show_results())"
      ],
      "metadata": {
        "id": "KQ1YGWuY7Sla",
        "colab": {
          "base_uri": "https://localhost:8080/"
        },
        "outputId": "d6af59d6-66cb-4b8c-a2e9-b6ba5fa6932f"
      },
      "execution_count": 74,
      "outputs": [
        {
          "output_type": "stream",
          "name": "stdout",
          "text": [
            "51G7775\n"
          ]
        }
      ]
    },
    {
      "cell_type": "code",
      "source": [
        "# Segmented characters and their predicted value.\n",
        "plt.figure(figsize=(10,6))\n",
        "for i,ch in enumerate(char):\n",
        "    img = cv2.resize(ch, (28,28), interpolation=cv2.INTER_AREA)\n",
        "    plt.subplot(3,4,i+1)\n",
        "    plt.imshow(img,cmap='gray')\n",
        "    plt.title(f'predicted: {show_results()[i]}')\n",
        "    plt.axis('off')\n",
        "plt.show()"
      ],
      "metadata": {
        "id": "U2swnh2U5zN-",
        "colab": {
          "base_uri": "https://localhost:8080/",
          "height": 258
        },
        "outputId": "40748c14-7786-47f5-d09e-8d7af126cae4"
      },
      "execution_count": 75,
      "outputs": [
        {
          "output_type": "display_data",
          "data": {
            "text/plain": [
              "<Figure size 720x432 with 7 Axes>"
            ],
            "image/png": "[encoded data removed]"
          },
          "metadata": {
            "needs_background": "light"
          }
        }
      ]
    }
  ]
}